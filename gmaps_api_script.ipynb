{
 "cells": [
  {
   "cell_type": "markdown",
   "metadata": {},
   "source": [
    "### Google Maps API Calling Script 1"
   ]
  },
  {
   "cell_type": "code",
   "execution_count": 1,
   "metadata": {},
   "outputs": [],
   "source": [
    "# importing libraries\n",
    "import pandas as pd\n",
    "import numpy as np\n",
    "import json\n",
    "import re\n",
    "import dateutil.parser as parser\n",
    "from datetime import datetime, date, timedelta\n",
    "import scipy\n",
    "import sys\n",
    "import time\n",
    "import matplotlib.pyplot as plt\n",
    "import seaborn as sns\n",
    "import pickle\n",
    "import emoji\n",
    "import requests\n",
    "import googlemaps\n",
    "import warnings"
   ]
  },
  {
   "cell_type": "code",
   "execution_count": 2,
   "metadata": {},
   "outputs": [],
   "source": [
    "# reading in api key and loading this in\n",
    "f = open(\"api.txt\", \"r\")\n",
    "\n",
    "gmaps = googlemaps.Client(key=f.readlines()[1])\n",
    "f.close()"
   ]
  },
  {
   "cell_type": "code",
   "execution_count": 4,
   "metadata": {},
   "outputs": [],
   "source": [
    "cocotte_test = gmaps.find_place(input='Cocotte Notting Hill, London',\n",
    "                                input_type='textquery',\n",
    "                                fields=['name','place_id','formatted_address'],\n",
    "                                location_bias='ipbias',\n",
    "                                language='en')"
   ]
  },
  {
   "cell_type": "code",
   "execution_count": 5,
   "metadata": {},
   "outputs": [],
   "source": [
    "brewery_test = gmaps.find_place(input='The Old Brewery, London',\n",
    "                                input_type='textquery',\n",
    "                                fields=['name','place_id','formatted_address'],\n",
    "                                location_bias='ipbias',\n",
    "                                language='en')"
   ]
  },
  {
   "cell_type": "code",
   "execution_count": 6,
   "metadata": {},
   "outputs": [
    {
     "name": "stdout",
     "output_type": "stream",
     "text": [
      "[{'formatted_address': '95 Westbourne Grove, London W2 4UW, United Kingdom', 'name': 'Cocotte Notting Hill', 'place_id': 'ChIJJeZ74wEQdkgRRaSxXA9ggsM'}]\n",
      "[{'formatted_address': 'The Pepys Building, The Old Royal Naval College, London SE10 9NN, United Kingdom', 'name': 'Old Brewery', 'place_id': 'ChIJGdIp0YQCdkgRvfDciFkSA_w'}]\n"
     ]
    }
   ],
   "source": [
    "print(cocotte_test['candidates'])\n",
    "print(brewery_test['candidates'])"
   ]
  },
  {
   "cell_type": "code",
   "execution_count": 8,
   "metadata": {},
   "outputs": [
    {
     "name": "stdout",
     "output_type": "stream",
     "text": [
      "95 Westbourne Grove, London W2 4UW, United Kingdom\n"
     ]
    }
   ],
   "source": [
    "print(cocotte_test['candidates'][0]['formatted_address'])"
   ]
  },
  {
   "cell_type": "code",
   "execution_count": 13,
   "metadata": {},
   "outputs": [
    {
     "name": "stdout",
     "output_type": "stream",
     "text": [
      "                                   formatted_address                  name  \\\n",
      "0  95 Westbourne Grove, London W2 4UW, United Kin...  Cocotte Notting Hill   \n",
      "1  The Pepys Building, The Old Royal Naval Colleg...           Old Brewery   \n",
      "\n",
      "                      place_id  \n",
      "0  ChIJJeZ74wEQdkgRRaSxXA9ggsM  \n",
      "1  ChIJGdIp0YQCdkgRvfDciFkSA_w  \n"
     ]
    },
    {
     "name": "stderr",
     "output_type": "stream",
     "text": [
      "C:\\Users\\ndsna\\AppData\\Local\\Temp\\ipykernel_7392\\3839055383.py:6: FutureWarning: The frame.append method is deprecated and will be removed from pandas in a future version. Use pandas.concat instead.\n",
      "  df = df.append(dict_selected, ignore_index=True)\n",
      "C:\\Users\\ndsna\\AppData\\Local\\Temp\\ipykernel_7392\\3839055383.py:6: FutureWarning: The frame.append method is deprecated and will be removed from pandas in a future version. Use pandas.concat instead.\n",
      "  df = df.append(dict_selected, ignore_index=True)\n"
     ]
    }
   ],
   "source": [
    "dict_list = [cocotte_test['candidates'][0], brewery_test['candidates'][0]]\n",
    "\n",
    "df = pd.DataFrame()\n",
    "for i in range(2):\n",
    "    dict_selected = dict_list[i]\n",
    "    df = df.append(dict_selected, ignore_index=True)\n",
    "print(df)\n",
    "\n"
   ]
  },
  {
   "cell_type": "code",
   "execution_count": 26,
   "metadata": {},
   "outputs": [
    {
     "name": "stderr",
     "output_type": "stream",
     "text": [
      "C:\\Users\\ndsna\\AppData\\Local\\Temp\\ipykernel_12564\\1209621210.py:2: DtypeWarning: Columns (0,1,3) have mixed types. Specify dtype option on import or set low_memory=False.\n",
      "  initial_df = pd.read_csv('Data/London_reviews.csv')\n"
     ]
    }
   ],
   "source": [
    "# import initial data to get a unique list of the restaurants in question which I can then call from\n",
    "initial_df = pd.read_csv('Data/London_reviews.csv')\n",
    "initial_df = initial_df.dropna(subset=['url_restaurant'])"
   ]
  },
  {
   "cell_type": "code",
   "execution_count": 27,
   "metadata": {},
   "outputs": [],
   "source": [
    "# getting the unique restaurant names\n",
    "restaurant_list = initial_df['restaurant_name'].unique()\n",
    "# replacing the underscores between words with whitespaces. Also adding in ', London' to give more specificity over the location\n",
    "restaurant_list = [(str(s).replace('_', ' ')) + ', London' for s in restaurant_list]\n",
    "pd.Series(restaurant_list).to_csv('Restaurant_Name_List_TA.csv')"
   ]
  },
  {
   "cell_type": "code",
   "execution_count": 28,
   "metadata": {},
   "outputs": [
    {
     "name": "stdout",
     "output_type": "stream",
     "text": [
      "Artist Residence Clubhouse, London\n"
     ]
    }
   ],
   "source": [
    "for i in restaurant_list[860:861]:\n",
    "    print(i)"
   ]
  },
  {
   "cell_type": "code",
   "execution_count": 29,
   "metadata": {},
   "outputs": [
    {
     "name": "stdout",
     "output_type": "stream",
     "text": [
      "                                      formatted_address  \\\n",
      "0     95 Westbourne Grove, London W2 4UW, United Kin...   \n",
      "1     Union Canal, Sheldon Square, London W2 6EP, Un...   \n",
      "2            212 High Rd, London N2 9AY, United Kingdom   \n",
      "3     275 Old Brompton Rd, London SW5 9JA, United Ki...   \n",
      "4     HMP Brixton, Jebb Ave, Brixton Hill, London SW...   \n",
      "...                                                 ...   \n",
      "1822  37 St Martin's Ln, London WC2N 4ER, United Kin...   \n",
      "1823  23-24 Gloucester Rd, South Kensington, London ...   \n",
      "1824      21 Piccadilly, London W1J 0BH, United Kingdom   \n",
      "1825  20/21 Leicester Square, London WC2H 7LE, Unite...   \n",
      "1826  The Pepys Building, The Old Royal Naval Colleg...   \n",
      "\n",
      "                              name                     place_id  \n",
      "0             Cocotte Notting Hill  ChIJJeZ74wEQdkgRRaSxXA9ggsM  \n",
      "1                 London Shell Co.  ChIJL5dqGYUbdkgRQ7cwcCeg_zw  \n",
      "2                            GENZO  ChIJ-1A3NFMbdkgRAzDMdHvhCFI  \n",
      "3       The Gojk Restaurant Lounge  ChIJqdYI34sPdkgRvMVH8LGc4Mw  \n",
      "4     The Clink Restaurant Brixton  ChIJw557YUcEdkgR7ANv_I8AvE4  \n",
      "...                            ...                          ...  \n",
      "1822                          Fumo  ChIJ4wPY0M0EdkgRLGC4aapz5gQ  \n",
      "1823                   ASK Italian  ChIJ4fluy14FdkgR36zDvrWrWH4  \n",
      "1824          Terrace at The Dilly  ChIJG4wWn9YEdkgReoek5-tp5rA  \n",
      "1825                      Chiquito  ChIJyalGCtIEdkgRejPfWOl4Qbg  \n",
      "1826                   Old Brewery  ChIJGdIp0YQCdkgRvfDciFkSA_w  \n",
      "\n",
      "[1827 rows x 3 columns]\n"
     ]
    }
   ],
   "source": [
    "missing_restaurants = []\n",
    "\n",
    "missing_dict = {'formatted_address' : 'missing', 'name' :'missing', 'place_id' : 'missing'}\n",
    "\n",
    "with warnings.catch_warnings():\n",
    "    warnings.simplefilter(action='ignore', category=FutureWarning)\n",
    "\n",
    "    df = pd.DataFrame()\n",
    "    for i in restaurant_list:\n",
    "        restaurant_details = gmaps.find_place(input=i,\n",
    "                                    input_type='textquery',\n",
    "                                    fields=['name','place_id','formatted_address'],\n",
    "                                    location_bias='ipbias',\n",
    "                                    language='en')\n",
    "        # moving past any case where it cannot be found\n",
    "        if restaurant_details['candidates']:\n",
    "            # taking the first restaurant, if it can be found\n",
    "            dict_details = restaurant_details['candidates'][0]\n",
    "            df = df.append(dict_details, ignore_index=True)\n",
    "        else:\n",
    "            missing_restaurants += i\n",
    "            df = df.append(missing_dict, ignore_index=True)\n",
    "    print(df)\n",
    "\n",
    "\n"
   ]
  },
  {
   "cell_type": "code",
   "execution_count": 30,
   "metadata": {},
   "outputs": [],
   "source": [
    "df.to_csv('Restaurant_Location_Details_2.0.csv', index = False)"
   ]
  },
  {
   "cell_type": "code",
   "execution_count": 33,
   "metadata": {},
   "outputs": [],
   "source": [
    "df['TA_Names'] = restaurant_list\n",
    "df['TA_Names'] = df['TA_Names'].apply(lambda x: re.sub(r', London$', '', x))\n",
    "df.to_csv('Restaurant_Location_Details_2.0.csv', index = False)"
   ]
  }
 ],
 "metadata": {
  "kernelspec": {
   "display_name": "Python 3",
   "language": "python",
   "name": "python3"
  },
  "language_info": {
   "codemirror_mode": {
    "name": "ipython",
    "version": 3
   },
   "file_extension": ".py",
   "mimetype": "text/x-python",
   "name": "python",
   "nbconvert_exporter": "python",
   "pygments_lexer": "ipython3",
   "version": "3.11.4"
  }
 },
 "nbformat": 4,
 "nbformat_minor": 2
}
