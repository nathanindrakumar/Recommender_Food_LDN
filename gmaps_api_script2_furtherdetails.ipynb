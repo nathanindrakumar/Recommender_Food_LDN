{
 "cells": [
  {
   "cell_type": "markdown",
   "metadata": {},
   "source": [
    "### Google Maps API Script 2 - Obtaining the cuisines, ratings, and the price level."
   ]
  },
  {
   "cell_type": "code",
   "execution_count": 1,
   "metadata": {},
   "outputs": [],
   "source": [
    "# importing libraries\n",
    "import pandas as pd\n",
    "import numpy as np\n",
    "import json\n",
    "import re\n",
    "import dateutil.parser as parser\n",
    "from datetime import datetime, date, timedelta\n",
    "import scipy\n",
    "import sys\n",
    "import time\n",
    "import matplotlib.pyplot as plt\n",
    "import seaborn as sns\n",
    "import pickle\n",
    "import emoji\n",
    "import requests\n",
    "import googlemaps\n",
    "import warnings"
   ]
  },
  {
   "cell_type": "code",
   "execution_count": 15,
   "metadata": {},
   "outputs": [],
   "source": [
    "# reading in api key and loading this in\n",
    "f = open(\"api.txt\", \"r\")\n",
    "api_key = f.readlines()[1]\n",
    "gmaps = googlemaps.Client(key=api_key, base_url='https://places.googleapis.com')\n",
    "\n",
    "f.close()"
   ]
  },
  {
   "cell_type": "code",
   "execution_count": 3,
   "metadata": {},
   "outputs": [],
   "source": [
    "restaurant_IDs = pd.read_csv('Restaurant_Location_Details.csv')"
   ]
  },
  {
   "cell_type": "code",
   "execution_count": null,
   "metadata": {},
   "outputs": [],
   "source": [
    "cocotte_test = gmaps.place(place_id = 'ChIJJeZ74wEQdkgRRaSxXA9ggsM',\n",
    "                                fields = ['price_level','rating','user_ratings_total','editorial_summary'], #,'primaryTypeName','primaryTypeDisplayName'\n",
    "                                language = 'en',\n",
    "                                reviews_no_translations = False, # translating reviews into English here for now\n",
    "                                reviews_sort = 'newest')"
   ]
  },
  {
   "cell_type": "code",
   "execution_count": 16,
   "metadata": {},
   "outputs": [],
   "source": [
    "brewery_test = gmaps.place(place_id = 'ChIJqdYI34sPdkgRvMVH8LGc4Mw',\n",
    "                                fields = ['price_level','rating','user_ratings_total','editorial_summary'], #,'primaryTypeName','primaryTypeDisplayName'\n",
    "                                language = 'en',\n",
    "                                reviews_no_translations = False, # translating reviews into English here for now\n",
    "                                reviews_sort = 'newest')"
   ]
  },
  {
   "cell_type": "code",
   "execution_count": 13,
   "metadata": {},
   "outputs": [
    {
     "name": "stdout",
     "output_type": "stream",
     "text": [
      "                                   editorial_summary  price_level  rating  \\\n",
      "0  {'language': 'en', 'overview': 'Welcoming, rus...            2     4.4   \n",
      "1  {'language': 'en', 'overview': 'Gastropub serv...            2     4.2   \n",
      "\n",
      "   user_ratings_total  \n",
      "0                 740  \n",
      "1                1619  \n"
     ]
    },
    {
     "name": "stderr",
     "output_type": "stream",
     "text": [
      "C:\\Users\\ndsna\\AppData\\Local\\Temp\\ipykernel_37436\\2145559040.py:6: FutureWarning: The frame.append method is deprecated and will be removed from pandas in a future version. Use pandas.concat instead.\n",
      "  df = df.append(dict_selected, ignore_index=True)\n",
      "C:\\Users\\ndsna\\AppData\\Local\\Temp\\ipykernel_37436\\2145559040.py:6: FutureWarning: The frame.append method is deprecated and will be removed from pandas in a future version. Use pandas.concat instead.\n",
      "  df = df.append(dict_selected, ignore_index=True)\n"
     ]
    }
   ],
   "source": [
    "dict_list = [cocotte_test['result'], brewery_test['result']]\n",
    "\n",
    "df = pd.DataFrame()\n",
    "for i in range(2):\n",
    "    dict_selected = dict_list[i]\n",
    "    df = df.append(dict_selected, ignore_index=True)\n",
    "print(df)\n",
    "\n"
   ]
  },
  {
   "cell_type": "code",
   "execution_count": 5,
   "metadata": {},
   "outputs": [
    {
     "ename": "NameError",
     "evalue": "name 'df' is not defined",
     "output_type": "error",
     "traceback": [
      "\u001b[1;31m---------------------------------------------------------------------------\u001b[0m",
      "\u001b[1;31mNameError\u001b[0m                                 Traceback (most recent call last)",
      "Cell \u001b[1;32mIn[5], line 5\u001b[0m\n\u001b[0;32m      3\u001b[0m     overview \u001b[38;5;241m=\u001b[39m dictionary[\u001b[38;5;124m'\u001b[39m\u001b[38;5;124moverview\u001b[39m\u001b[38;5;124m'\u001b[39m]\n\u001b[0;32m      4\u001b[0m     \u001b[38;5;28;01mreturn\u001b[39;00m overview_lang, overview\n\u001b[1;32m----> 5\u001b[0m df[[\u001b[38;5;124m'\u001b[39m\u001b[38;5;124moverview_lang\u001b[39m\u001b[38;5;124m'\u001b[39m, \u001b[38;5;124m'\u001b[39m\u001b[38;5;124moverview\u001b[39m\u001b[38;5;124m'\u001b[39m]] \u001b[38;5;241m=\u001b[39m df[\u001b[38;5;124m'\u001b[39m\u001b[38;5;124meditorial_summary\u001b[39m\u001b[38;5;124m'\u001b[39m]\u001b[38;5;241m.\u001b[39mapply(\u001b[38;5;28;01mlambda\u001b[39;00m x: pd\u001b[38;5;241m.\u001b[39mSeries(extract_values(x)))\n",
      "\u001b[1;31mNameError\u001b[0m: name 'df' is not defined"
     ]
    }
   ],
   "source": [
    "def extract_values(dictionary):\n",
    "    overview_lang = dictionary['language']\n",
    "    overview = dictionary['overview']\n",
    "    return overview_lang, overview\n",
    "df[['overview_lang', 'overview']] = df['editorial_summary'].apply(lambda x: pd.Series(extract_values(x)))"
   ]
  },
  {
   "cell_type": "code",
   "execution_count": 6,
   "metadata": {},
   "outputs": [],
   "source": [
    "restaurant_list = restaurant_IDs['place_id']\n"
   ]
  },
  {
   "cell_type": "code",
   "execution_count": 20,
   "metadata": {},
   "outputs": [
    {
     "name": "stdout",
     "output_type": "stream",
     "text": [
      "                                      editorial_summary  price_level  rating  \\\n",
      "0     {'language': 'en', 'overview': 'Welcoming, rus...          2.0     4.4   \n",
      "1     {'language': 'en', 'overview': 'A carefully-cu...          NaN     4.7   \n",
      "2     {'language': 'en', 'overview': 'Charming Greek...          2.0     4.6   \n",
      "3                                                   NaN          NaN     4.8   \n",
      "4     {'language': 'en', 'overview': 'Inmates prep a...          2.0     4.8   \n",
      "...                                                 ...          ...     ...   \n",
      "1780  {'language': 'en', 'overview': 'A marble featu...          3.0     4.2   \n",
      "1781  {'language': 'en', 'overview': 'Modern Italian...          2.0     3.8   \n",
      "1782  {'language': 'en', 'overview': 'Hotel's upscal...          NaN     4.0   \n",
      "1783  {'language': 'en', 'overview': 'Upbeat, party-...          2.0     4.2   \n",
      "1784  {'language': 'en', 'overview': 'Gastropub serv...          2.0     4.2   \n",
      "\n",
      "      user_ratings_total                     place_id overview_lang  \\\n",
      "0                  740.0  ChIJJeZ74wEQdkgRRaSxXA9ggsM            en   \n",
      "1                  448.0  ChIJL5dqGYUbdkgRQ7cwcCeg_zw            en   \n",
      "2                  302.0  ChIJ-1A3NFMbdkgRAzDMdHvhCFI            en   \n",
      "3                   65.0  ChIJqdYI34sPdkgRvMVH8LGc4Mw           NaN   \n",
      "4                  264.0  ChIJw557YUcEdkgR7ANv_I8AvE4            en   \n",
      "...                  ...                          ...           ...   \n",
      "1780              2109.0  ChIJ4wPY0M0EdkgRLGC4aapz5gQ            en   \n",
      "1781               702.0  ChIJ4fluy14FdkgR36zDvrWrWH4            en   \n",
      "1782               206.0  ChIJG4wWn9YEdkgReoek5-tp5rA            en   \n",
      "1783              1409.0  ChIJW5xvHeAEdkgRywrT6Jn4zDo            en   \n",
      "1784              1619.0  ChIJGdIp0YQCdkgRvfDciFkSA_w            en   \n",
      "\n",
      "                                               overview  \n",
      "0     Welcoming, rustic corner spot serving French, ...  \n",
      "1     A carefully-curated wine list accompanies a me...  \n",
      "2     Charming Greek place with a mosaic floor plati...  \n",
      "3                                                   NaN  \n",
      "4     Inmates prep and serve European lunches in a s...  \n",
      "...                                                 ...  \n",
      "1780  A marble feature bar and elegant dining room f...  \n",
      "1781  Modern Italian restaurant chain serving long, ...  \n",
      "1782  Hotel's upscale restaurant featuring thoughtfu...  \n",
      "1783  Upbeat, party-style Cuban/Mexican-themed bar a...  \n",
      "1784  Gastropub serving seasonal British food & loca...  \n",
      "\n",
      "[1785 rows x 7 columns]\n"
     ]
    }
   ],
   "source": [
    "def extract_values(dictionary):\n",
    "    if dictionary == dictionary:\n",
    "        overview_lang = dictionary['language']\n",
    "        overview = dictionary['overview']\n",
    "        return overview_lang, overview\n",
    "\n",
    "missing_restaurants = []\n",
    "\n",
    "with warnings.catch_warnings():\n",
    "    warnings.simplefilter(action='ignore', category=FutureWarning)\n",
    "\n",
    "    df = pd.DataFrame()\n",
    "    for i in restaurant_list:\n",
    "        restaurant_details = gmaps.place(place_id = i,\n",
    "                                fields = ['price_level','rating','user_ratings_total','editorial_summary'], #,'primaryTypeName','primaryTypeDisplayName'\n",
    "                                language = 'en',\n",
    "                                reviews_no_translations = False, # translating reviews into English here for now\n",
    "                                reviews_sort = 'newest')\n",
    "        # moving past any case where it cannot be found\n",
    "        if restaurant_details['result']:\n",
    "            dict_details = restaurant_details['result']\n",
    "            dict_details[\"place_id\"] = i\n",
    "            df = df.append(dict_details, ignore_index=True)\n",
    "\n",
    "        # else:\n",
    "        #     missing_restaurants = missing_restaurants.append(i)\n",
    "\n",
    "    df[['overview_lang', 'overview']] = df['editorial_summary'].apply(lambda x: pd.Series(extract_values(x)))\n",
    "    print(df)\n",
    "\n",
    "\n"
   ]
  },
  {
   "cell_type": "code",
   "execution_count": 14,
   "metadata": {},
   "outputs": [
    {
     "name": "stdout",
     "output_type": "stream",
     "text": [
      "{'editorial_summary': {'language': 'en', 'overview': 'Sophisticated decor with tiles and exposed bricks in a daytime weekend cafe and nighttime bar.'}, 'price_level': 2, 'rating': 4.8, 'user_ratings_total': 826}\n"
     ]
    }
   ],
   "source": [
    "print(dict_details)"
   ]
  },
  {
   "cell_type": "code",
   "execution_count": 21,
   "metadata": {},
   "outputs": [],
   "source": [
    "df.to_csv('Restaurant_Location_Additional_Details.csv', index = False)"
   ]
  },
  {
   "cell_type": "code",
   "execution_count": 49,
   "metadata": {},
   "outputs": [],
   "source": [
    "# https://stackoverflow.com/questions/77890446/how-to-call-via-google-places-apinew-text-search-id-only-in-python\n",
    "\n",
    "# Found that the Python library that interacts with the Google API doesn't seem to work with the \n",
    "# new version of the Places API, so adapted the code from the above to create my own function which\n",
    "# will find the additional details I need, in particular it is the cuisine in order to create an\n",
    "# intelligble recommendation list of similar restaurants\n",
    "\n",
    "def find_place(places_id, api_key2):    \n",
    "    # Define the API endpoint\n",
    "    url = 'https://places.googleapis.com/v1/places/' + places_id\n",
    "\n",
    "    # Define the headers\n",
    "    headers = {\n",
    "        'Content-Type': 'application/json',\n",
    "        'X-Goog-Api-Key': api_key2, \n",
    "        'X-Goog-FieldMask': 'id,primaryType,location'\n",
    "    }\n",
    "\n",
    "    # Define the data payload for the POST request\n",
    "    # data = {\n",
    "    #     'textQuery': query\n",
    "    # }\n",
    "\n",
    "    # Make the POST request\n",
    "    response = requests.get(url, headers=headers)\n",
    "\n",
    "    # Check if the request was successful\n",
    "    if response.status_code != 200:\n",
    "        print(f\"Error: {response.status_code}, {response.text}\")\n",
    "    return json.loads(response.text)\n",
    "\n"
   ]
  },
  {
   "cell_type": "code",
   "execution_count": 50,
   "metadata": {},
   "outputs": [],
   "source": [
    "cocotte_test_custom = find_place(places_id='ChIJJeZ74wEQdkgRRaSxXA9ggsM', api_key2 = api_key)"
   ]
  },
  {
   "cell_type": "code",
   "execution_count": 42,
   "metadata": {},
   "outputs": [],
   "source": [
    "restaurant_list = restaurant_IDs['place_id']"
   ]
  },
  {
   "cell_type": "code",
   "execution_count": 51,
   "metadata": {},
   "outputs": [
    {
     "name": "stdout",
     "output_type": "stream",
     "text": [
      "                               id  \\\n",
      "0     ChIJJeZ74wEQdkgRRaSxXA9ggsM   \n",
      "1     ChIJL5dqGYUbdkgRQ7cwcCeg_zw   \n",
      "2     ChIJ-1A3NFMbdkgRAzDMdHvhCFI   \n",
      "3     ChIJqdYI34sPdkgRvMVH8LGc4Mw   \n",
      "4     ChIJw557YUcEdkgR7ANv_I8AvE4   \n",
      "...                           ...   \n",
      "1818  ChIJ4wPY0M0EdkgRLGC4aapz5gQ   \n",
      "1819  ChIJ4fluy14FdkgR36zDvrWrWH4   \n",
      "1820  ChIJG4wWn9YEdkgReoek5-tp5rA   \n",
      "1821  ChIJW5xvHeAEdkgRywrT6Jn4zDo   \n",
      "1822  ChIJGdIp0YQCdkgRvfDciFkSA_w   \n",
      "\n",
      "                                               location         primaryType  \\\n",
      "0     {'latitude': 51.5151529, 'longitude': -0.19301...   brunch_restaurant   \n",
      "1     {'latitude': 51.519576, 'longitude': -0.179230...  seafood_restaurant   \n",
      "2     {'latitude': 51.593176799999995, 'longitude': ...    greek_restaurant   \n",
      "3     {'latitude': 51.488687899999995, 'longitude': ...          restaurant   \n",
      "4     {'latitude': 51.4519672, 'longitude': -0.12563...          restaurant   \n",
      "...                                                 ...                 ...   \n",
      "1818  {'latitude': 51.5100791, 'longitude': -0.1267557}  italian_restaurant   \n",
      "1819  {'latitude': 51.494794000000006, 'longitude': ...  italian_restaurant   \n",
      "1820  {'latitude': 51.5093805, 'longitude': -0.1362361}          restaurant   \n",
      "1821  {'latitude': 51.4931709, 'longitude': -0.1407742}  mexican_restaurant   \n",
      "1822  {'latitude': 51.482903900000004, 'longitude': ...                 bar   \n",
      "\n",
      "       latitude  longitude  \n",
      "0     51.515153  -0.193012  \n",
      "1     51.519576  -0.179230  \n",
      "2     51.593177  -0.166820  \n",
      "3     51.488688  -0.192077  \n",
      "4     51.451967  -0.125632  \n",
      "...         ...        ...  \n",
      "1818  51.510079  -0.126756  \n",
      "1819  51.494794  -0.183593  \n",
      "1820  51.509380  -0.136236  \n",
      "1821  51.493171  -0.140774  \n",
      "1822  51.482904  -0.008215  \n",
      "\n",
      "[1823 rows x 5 columns]\n"
     ]
    }
   ],
   "source": [
    "def extract_values(dictionary):\n",
    "    if dictionary == dictionary:\n",
    "        overview_lang = dictionary['latitude']\n",
    "        overview = dictionary['longitude']\n",
    "        return overview_lang, overview\n",
    "\n",
    "missing_restaurants = []\n",
    "\n",
    "with warnings.catch_warnings():\n",
    "    warnings.simplefilter(action='ignore', category=FutureWarning)\n",
    "\n",
    "    df = pd.DataFrame()\n",
    "    for i in restaurant_list:\n",
    "        restaurant_details = find_place(places_id=i, api_key2 = api_key)\n",
    "        # moving past any case where it cannot be found\n",
    "        if restaurant_details['id']:\n",
    "            df = df.append(restaurant_details, ignore_index=True)\n",
    "\n",
    "        # else:\n",
    "        #     missing_restaurants = missing_restaurants.append(i)\n",
    "\n",
    "    df[['latitude', 'longitude']] = df['location'].apply(lambda x: pd.Series(extract_values(x)))\n",
    "    print(df)\n",
    "\n",
    "\n"
   ]
  },
  {
   "cell_type": "code",
   "execution_count": 52,
   "metadata": {},
   "outputs": [],
   "source": [
    "df.to_csv('Restaurant_Cuisine_and_Loc.csv', index = False)"
   ]
  }
 ],
 "metadata": {
  "kernelspec": {
   "display_name": "Python 3",
   "language": "python",
   "name": "python3"
  },
  "language_info": {
   "codemirror_mode": {
    "name": "ipython",
    "version": 3
   },
   "file_extension": ".py",
   "mimetype": "text/x-python",
   "name": "python",
   "nbconvert_exporter": "python",
   "pygments_lexer": "ipython3",
   "version": "3.11.4"
  }
 },
 "nbformat": 4,
 "nbformat_minor": 2
}
