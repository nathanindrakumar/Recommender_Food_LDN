{
 "cells": [
  {
   "cell_type": "markdown",
   "id": "267a9091-fe48-4d65-8161-46713944631e",
   "metadata": {
    "tags": []
   },
   "source": [
    "### Building a recommendation system with restaurants in London"
   ]
  },
  {
   "cell_type": "markdown",
   "id": "4edab855-5c40-4130-827f-9c2d17fd2360",
   "metadata": {
    "tags": []
   },
   "source": [
    "### Ideas\n",
    "\n",
    "#### < Maybe find a map dataset or something to get geo data for each restaurant, would be nice to have a cuisine datapoint too\n",
    "\n",
    "#### < NLP angle with the reviews textual data\n",
    "\n",
    "#### < Can use date as a factor, more recent the review, the more weighting it should have\n",
    "\n",
    "#### < What does good look like? Like what is a 'good' recommendation?"
   ]
  },
  {
   "cell_type": "markdown",
   "id": "8be1e438-287e-4edd-a892-078ceedf2d93",
   "metadata": {
    "tags": []
   },
   "source": [
    "_______________________________________________________________________"
   ]
  },
  {
   "cell_type": "markdown",
   "id": "97677010-f5d4-4a9e-8772-c8c09be67960",
   "metadata": {
    "tags": []
   },
   "source": [
    "### Factor Release Plan\n",
    "\n",
    "#### Release 1\n",
    "\n",
    "##### 1. Initial recommender based on review value and volume\n",
    "##### 2. Involve date as a factor of review reliability\n",
    "##### 3. Introduce textual NLP analysis of reviews as another way of weighting\n",
    "##### 4. Bring in geo data for people to select areas or something?\n",
    "##### 5. Would be nice to webscrape cuisine as a datapoint too\n",
    "##### 6. Could also include author id as a factor - potentially someone who posts lots of reviews are more reliable?"
   ]
  },
  {
   "cell_type": "code",
   "execution_count": 1,
   "id": "cf05a414-5819-4a01-bc65-346cf24f5b89",
   "metadata": {
    "tags": []
   },
   "outputs": [],
   "source": [
    "# importing libraries\n",
    "import pandas as pd\n",
    "import numpy as np\n",
    "import json\n",
    "from sklearn.feature_extraction.text import TfidfVectorizer\n",
    "import re\n",
    "import dateutil.parser as parser\n",
    "from datetime import datetime, date, timedelta\n",
    "import torch\n",
    "import skorch\n",
    "import scipy\n",
    "import torch.nn as nn\n",
    "import torch\n",
    "import torch.nn.functional as F\n",
    "import sys\n",
    "from skorch.helper import DataFrameTransformer\n",
    "import time\n",
    "import matplotlib.pyplot as plt\n",
    "import seaborn as sns\n",
    "from sklearn.model_selection import GridSearchCV, cross_val_score\n",
    "from sklearn.svm import SVC\n",
    "from sklearn.metrics import classification_report, confusion_matrix, accuracy_score, mean_squared_error, r2_score\n",
    "from sklearn import metrics\n",
    "from sklearn.preprocessing import FunctionTransformer\n",
    "from skorch.callbacks import EarlyStopping\n",
    "from sklearn.pipeline import Pipeline\n",
    "from skorch import NeuralNetRegressor\n",
    "import pickle\n",
    "import emoji\n",
    "import requests\n",
    "from bs4 import BeautifulSoup"
   ]
  },
  {
   "cell_type": "code",
   "execution_count": 2,
   "id": "a9a7eaaf-ccec-4ad0-a491-0bc32c5ff08b",
   "metadata": {},
   "outputs": [
    {
     "name": "stderr",
     "output_type": "stream",
     "text": [
      "C:\\Users\\ndsna\\AppData\\Local\\Temp\\ipykernel_16148\\2783312507.py:1: DtypeWarning: Columns (0,1,3) have mixed types. Specify dtype option on import or set low_memory=False.\n",
      "  initial_df = pd.read_csv('Data/London_reviews.csv')\n"
     ]
    }
   ],
   "source": [
    "initial_df = pd.read_csv('Data/London_reviews.csv')"
   ]
  },
  {
   "cell_type": "code",
   "execution_count": 3,
   "id": "5106e42e-d2e5-4d6a-9043-cf6219fcb594",
   "metadata": {
    "tags": []
   },
   "outputs": [
    {
     "name": "stdout",
     "output_type": "stream",
     "text": [
      "       Unnamed: 0 parse_count       restaurant_name rating_review    sample  \\\n",
      "0               0           1  Cocotte_Notting_Hill           5.0  Positive   \n",
      "1               1           2  Cocotte_Notting_Hill           5.0  Positive   \n",
      "2               2           3  Cocotte_Notting_Hill           5.0  Positive   \n",
      "3               3           4  Cocotte_Notting_Hill           5.0  Positive   \n",
      "4               4           5  Cocotte_Notting_Hill           5.0  Positive   \n",
      "...           ...         ...                   ...           ...       ...   \n",
      "996562     999995      999996       The_Old_Brewery           4.0  Positive   \n",
      "996563     999996      999997       The_Old_Brewery           2.0  Negative   \n",
      "996564     999997      999998       The_Old_Brewery           5.0  Positive   \n",
      "996565     999998      999999       The_Old_Brewery           5.0  Positive   \n",
      "996566     999999     1000000       The_Old_Brewery           3.0  Negative   \n",
      "\n",
      "               review_id                                       title_review  \\\n",
      "0       review_771556136                                       JUST PERFECT   \n",
      "1       review_771555883  Quality food, Food travels well, Excellent cus...   \n",
      "2       review_770716943                        Came here because we missed   \n",
      "3       review_770027676                                      Great service   \n",
      "4       review_766307138                 𝓔𝔁𝓬𝓮𝓵𝓵𝓮𝓷𝓽 𝓕𝓪𝓻𝓶-𝓽𝓸-𝓣𝓪𝓫𝓵𝓮 𝓡𝓸𝓽𝓲𝓼𝓼𝓮𝓻𝓲𝓮   \n",
      "...                  ...                                                ...   \n",
      "996562  review_665762822                                              Lunch   \n",
      "996563  review_664749502                                    Flat atmosphere   \n",
      "996564  review_663033085                          Lovely Mother’s Day Lunch   \n",
      "996565  review_662538673                        Lovely relaxing lunch venue   \n",
      "996566  review_659900789                      Special was not that special    \n",
      "\n",
      "                                           review_preview  \\\n",
      "0       I was away for couple of months and  I am so h...   \n",
      "1       I recently ordered over the phone from Cocotte...   \n",
      "2       Came here because we missed our table at Farma...   \n",
      "3       My first time in cocotte and was amazed by how...   \n",
      "4       A healthy-homemade dishes using farm-grown ing...   \n",
      "...                                                   ...   \n",
      "996562  Popped in for a lunch time snack when visiting...   \n",
      "996563  Visited once before a couple of years previous...   \n",
      "996564  My husband and I had a wonderful lunch here on...   \n",
      "996565  Had a very enjoyable lunch here, catching up w...   \n",
      "996566  I have been to The Old Brewery under his previ...   \n",
      "\n",
      "                                              review_full                date  \\\n",
      "0       I was away for couple of months and I am so ha...  September 23, 2020   \n",
      "1       I recently ordered over the phone from Cocotte...  September 23, 2020   \n",
      "2       Came here because we missed our table at Farma...  September 17, 2020   \n",
      "3       My first time in cocotte and was amazed by how...  September 12, 2020   \n",
      "4       A healthy-homemade dishes using farm-grown ing...     August 22, 2020   \n",
      "...                                                   ...                 ...   \n",
      "996562  Popped in for a lunch time snack when visiting...      April 12, 2019   \n",
      "996563  Visited once before a couple of years previous...       April 8, 2019   \n",
      "996564  My husband and I had a wonderful lunch here on...       April 2, 2019   \n",
      "996565  Had a very enjoyable lunch here, catching up w...      March 31, 2019   \n",
      "996566  I have been to The Old Brewery under his previ...      March 20, 2019   \n",
      "\n",
      "                  city                                     url_restaurant  \\\n",
      "0       London_England  https://www.tripadvisor.com/Restaurant_Review-...   \n",
      "1       London_England  https://www.tripadvisor.com/Restaurant_Review-...   \n",
      "2       London_England  https://www.tripadvisor.com/Restaurant_Review-...   \n",
      "3       London_England  https://www.tripadvisor.com/Restaurant_Review-...   \n",
      "4       London_England  https://www.tripadvisor.com/Restaurant_Review-...   \n",
      "...                ...                                                ...   \n",
      "996562  London_England  https://www.tripadvisor.com/Restaurant_Review-...   \n",
      "996563  London_England  https://www.tripadvisor.com/Restaurant_Review-...   \n",
      "996564  London_England  https://www.tripadvisor.com/Restaurant_Review-...   \n",
      "996565  London_England  https://www.tripadvisor.com/Restaurant_Review-...   \n",
      "996566  London_England  https://www.tripadvisor.com/Restaurant_Review-...   \n",
      "\n",
      "         author_id  \n",
      "0            UID_0  \n",
      "1            UID_1  \n",
      "2            UID_2  \n",
      "3            UID_3  \n",
      "4            UID_4  \n",
      "...            ...  \n",
      "996562  UID_211196  \n",
      "996563  UID_186355  \n",
      "996564  UID_502226  \n",
      "996565  UID_502227  \n",
      "996566  UID_502228  \n",
      "\n",
      "[996567 rows x 13 columns]\n"
     ]
    }
   ],
   "source": [
    "print(initial_df)"
   ]
  },
  {
   "cell_type": "code",
   "execution_count": 4,
   "id": "b94ac814-884d-4f70-95e7-f7633edabd29",
   "metadata": {
    "tags": []
   },
   "outputs": [],
   "source": [
    "df = initial_df.drop(['Unnamed: 0','parse_count'],axis=1)"
   ]
  },
  {
   "cell_type": "code",
   "execution_count": null,
   "id": "ac2c933b-81c5-424e-b61e-0ef673767a28",
   "metadata": {
    "tags": []
   },
   "outputs": [],
   "source": [
    "# testing scraping geo data from Google Maps\n",
    "\n",
    "url = \"https://www.google.com/maps/search/Cocotte%20Notting%20Hill\"\n",
    "response = requests.get(url)\n",
    "html_content = response.text\n",
    "\n",
    "soup = BeautifulSoup(html_content, \"html.parser\")\n",
    "\n",
    "print(html_content)\n",
    "# restaurants = soup.find_all(\"div\", class_=\"section-result-details-container\")\n",
    "\n",
    "# for restaurant in restaurants:\n",
    "#     name = restaurant.find(\"h3\", class_=\"section-result-title\").text.strip()\n",
    "#     address = restaurant.find(\"span\", class_=\"section-result-location\").text.strip()\n",
    "    \n",
    "#     print(\"Name:\", name)\n",
    "#     print(\"Address:\", address)\n",
    "#     print(\"-\" * 50)"
   ]
  },
  {
   "cell_type": "code",
   "execution_count": 15,
   "id": "cbccbbc0-b334-427b-aea3-9b8fd3430d7c",
   "metadata": {},
   "outputs": [
    {
     "name": "stdout",
     "output_type": "stream",
     "text": [
      "0\n",
      "https://www.google.com/maps/search/Cocotte%20Notting%20Hill\n",
      "1 - Cocotte Notting Hill\n",
      "1\n",
      "https://www.google.com/maps/search/The%20Old%20Brewery\n",
      "\n"
     ]
    }
   ],
   "source": [
    "# Import the library Selenium \n",
    "from selenium import webdriver \n",
    "from selenium.webdriver.common.action_chains import ActionChains \n",
    "from selenium.webdriver.common.by import By\n",
    "from selenium.webdriver.support.ui import WebDriverWait\n",
    "from selenium.webdriver.support import expected_conditions as EC\n",
    "  \n",
    "# Make browser open in background \n",
    "options = webdriver.ChromeOptions() \n",
    "#options.add_argument('headless') \n",
    "  \n",
    "# Create the webdriver object \n",
    "browser = webdriver.Chrome(options=options) \n",
    "  \n",
    "# Obtain the Google Map URL \n",
    "url = [\"https://www.google.com/maps/search/Cocotte%20Notting%20Hill\",\"https://www.google.com/maps/search/The%20Old%20Brewery\"] \n",
    "# Initialize variables and declare it 0 \n",
    "i = 0\n",
    "\n",
    "results = []\n",
    "# Create a loop for obtaining data from URLs \n",
    "for i in range(len(url)): \n",
    "    print(i)\n",
    "    print(url[i])\n",
    "    # Open the Google Map URL \n",
    "    browser.get(url[i]) \n",
    "    \n",
    "    if i == 0:\n",
    "        browser.find_element(By.XPATH,\"//button[@aria-label='Accept all']\").click()\n",
    "        \n",
    "        title = browser.find_element(By.XPATH, \"//h1[@class='DUwDvf lfPIob']\")\n",
    "        print(i+1, \"-\", title.text) \n",
    "        \n",
    "    if i == 1:    \n",
    "        elems = browser.find_element(By.CSS_SELECTOR,(\"a.hfpxzc\"))\n",
    "        print(elems.text)\n",
    "        # elems = browser.find_elements(By.XPATH, \"//div[@role='article']\") # \"//a[@class='hfpxzc']\"\n",
    "        # for elem in elems:\n",
    "            # print(elem.text)\n",
    "            # title = elem.find_element(By.CSS_SELECTOR, \"div.fontHeadlineSmall\")\n",
    "            # description = elem.find_element(By.CSS_SELECTOR, \"div.fontBodyMedium\")\n",
    "            # results.append(str(title.text)+';'+str(description.text))\n",
    "            # print(results)\n",
    "    # Obtain the title of that place \n",
    "    # title = browser.find_element_by_class_Nname( \n",
    "    #     \"x3AX1-LfntMc-header-title-title\") \n",
    "    # title = browser.find_element(By.XPATH, \"//span[@class='a5H0ec']\")\n",
    "\n",
    "  \n",
    "    # Obtain the ratings of that place \n",
    "    # stars = browser.find_element_by_class_name(\"aMPvhf-fI6EEc-KVuj8d\") \n",
    "    # print(\"The stars of restaurant are:\", stars.text) \n",
    "    # print(\"\\n\") \n",
    "    \n",
    "browser.quit()"
   ]
  },
  {
   "cell_type": "code",
   "execution_count": 10,
   "id": "5eec8e3b-4ac0-4fe6-96fd-f05ad77fa138",
   "metadata": {},
   "outputs": [],
   "source": [
    "browser.get('https://www.google.com/maps/search/Cocotte%20Notting%20Hill')"
   ]
  },
  {
   "cell_type": "code",
   "execution_count": null,
   "id": "7cad3806-8182-46a8-8d32-81f8caf16641",
   "metadata": {
    "tags": []
   },
   "outputs": [],
   "source": [
    "print(title.text)"
   ]
  },
  {
   "cell_type": "code",
   "execution_count": 13,
   "id": "5c7b738c-ff87-41fc-b2aa-4e1204d6be1f",
   "metadata": {
    "tags": []
   },
   "outputs": [
    {
     "ename": "NoSuchWindowException",
     "evalue": "Message: no such window: target window already closed\nfrom unknown error: web view not found\n  (Session info: chrome=120.0.6099.225)\nStacktrace:\n\tGetHandleVerifier [0x00007FF73DA72142+3514994]\n\t(No symbol) [0x00007FF73D690CE2]\n\t(No symbol) [0x00007FF73D5376AA]\n\t(No symbol) [0x00007FF73D510AFD]\n\t(No symbol) [0x00007FF73D5ACB1B]\n\t(No symbol) [0x00007FF73D5C218F]\n\t(No symbol) [0x00007FF73D5A5D93]\n\t(No symbol) [0x00007FF73D574BDC]\n\t(No symbol) [0x00007FF73D575C64]\n\tGetHandleVerifier [0x00007FF73DA9E16B+3695259]\n\tGetHandleVerifier [0x00007FF73DAF6737+4057191]\n\tGetHandleVerifier [0x00007FF73DAEE4E3+4023827]\n\tGetHandleVerifier [0x00007FF73D7C04F9+689705]\n\t(No symbol) [0x00007FF73D69C048]\n\t(No symbol) [0x00007FF73D698044]\n\t(No symbol) [0x00007FF73D6981C9]\n\t(No symbol) [0x00007FF73D6888C4]\n\tBaseThreadInitThunk [0x00007FFBE96F257D+29]\n\tRtlUserThreadStart [0x00007FFBEAC8AA58+40]\n",
     "output_type": "error",
     "traceback": [
      "\u001b[1;31m---------------------------------------------------------------------------\u001b[0m",
      "\u001b[1;31mNoSuchWindowException\u001b[0m                     Traceback (most recent call last)",
      "Cell \u001b[1;32mIn[13], line 2\u001b[0m\n\u001b[0;32m      1\u001b[0m \u001b[38;5;28;01mfor\u001b[39;00m elem \u001b[38;5;129;01min\u001b[39;00m elems:\n\u001b[1;32m----> 2\u001b[0m     \u001b[38;5;28mprint\u001b[39m(elem\u001b[38;5;241m.\u001b[39mtext)\n",
      "File \u001b[1;32mG:\\anaconda3\\envs\\DataSciEnv\\Lib\\site-packages\\selenium\\webdriver\\remote\\webelement.py:90\u001b[0m, in \u001b[0;36mWebElement.text\u001b[1;34m(self)\u001b[0m\n\u001b[0;32m     87\u001b[0m \u001b[38;5;129m@property\u001b[39m\n\u001b[0;32m     88\u001b[0m \u001b[38;5;28;01mdef\u001b[39;00m \u001b[38;5;21mtext\u001b[39m(\u001b[38;5;28mself\u001b[39m) \u001b[38;5;241m-\u001b[39m\u001b[38;5;241m>\u001b[39m \u001b[38;5;28mstr\u001b[39m:\n\u001b[0;32m     89\u001b[0m \u001b[38;5;250m    \u001b[39m\u001b[38;5;124;03m\"\"\"The text of the element.\"\"\"\u001b[39;00m\n\u001b[1;32m---> 90\u001b[0m     \u001b[38;5;28;01mreturn\u001b[39;00m \u001b[38;5;28mself\u001b[39m\u001b[38;5;241m.\u001b[39m_execute(Command\u001b[38;5;241m.\u001b[39mGET_ELEMENT_TEXT)[\u001b[38;5;124m\"\u001b[39m\u001b[38;5;124mvalue\u001b[39m\u001b[38;5;124m\"\u001b[39m]\n",
      "File \u001b[1;32mG:\\anaconda3\\envs\\DataSciEnv\\Lib\\site-packages\\selenium\\webdriver\\remote\\webelement.py:395\u001b[0m, in \u001b[0;36mWebElement._execute\u001b[1;34m(self, command, params)\u001b[0m\n\u001b[0;32m    393\u001b[0m     params \u001b[38;5;241m=\u001b[39m {}\n\u001b[0;32m    394\u001b[0m params[\u001b[38;5;124m\"\u001b[39m\u001b[38;5;124mid\u001b[39m\u001b[38;5;124m\"\u001b[39m] \u001b[38;5;241m=\u001b[39m \u001b[38;5;28mself\u001b[39m\u001b[38;5;241m.\u001b[39m_id\n\u001b[1;32m--> 395\u001b[0m \u001b[38;5;28;01mreturn\u001b[39;00m \u001b[38;5;28mself\u001b[39m\u001b[38;5;241m.\u001b[39m_parent\u001b[38;5;241m.\u001b[39mexecute(command, params)\n",
      "File \u001b[1;32mG:\\anaconda3\\envs\\DataSciEnv\\Lib\\site-packages\\selenium\\webdriver\\remote\\webdriver.py:348\u001b[0m, in \u001b[0;36mWebDriver.execute\u001b[1;34m(self, driver_command, params)\u001b[0m\n\u001b[0;32m    346\u001b[0m response \u001b[38;5;241m=\u001b[39m \u001b[38;5;28mself\u001b[39m\u001b[38;5;241m.\u001b[39mcommand_executor\u001b[38;5;241m.\u001b[39mexecute(driver_command, params)\n\u001b[0;32m    347\u001b[0m \u001b[38;5;28;01mif\u001b[39;00m response:\n\u001b[1;32m--> 348\u001b[0m     \u001b[38;5;28mself\u001b[39m\u001b[38;5;241m.\u001b[39merror_handler\u001b[38;5;241m.\u001b[39mcheck_response(response)\n\u001b[0;32m    349\u001b[0m     response[\u001b[38;5;124m\"\u001b[39m\u001b[38;5;124mvalue\u001b[39m\u001b[38;5;124m\"\u001b[39m] \u001b[38;5;241m=\u001b[39m \u001b[38;5;28mself\u001b[39m\u001b[38;5;241m.\u001b[39m_unwrap_value(response\u001b[38;5;241m.\u001b[39mget(\u001b[38;5;124m\"\u001b[39m\u001b[38;5;124mvalue\u001b[39m\u001b[38;5;124m\"\u001b[39m, \u001b[38;5;28;01mNone\u001b[39;00m))\n\u001b[0;32m    350\u001b[0m     \u001b[38;5;28;01mreturn\u001b[39;00m response\n",
      "File \u001b[1;32mG:\\anaconda3\\envs\\DataSciEnv\\Lib\\site-packages\\selenium\\webdriver\\remote\\errorhandler.py:229\u001b[0m, in \u001b[0;36mErrorHandler.check_response\u001b[1;34m(self, response)\u001b[0m\n\u001b[0;32m    227\u001b[0m         alert_text \u001b[38;5;241m=\u001b[39m value[\u001b[38;5;124m\"\u001b[39m\u001b[38;5;124malert\u001b[39m\u001b[38;5;124m\"\u001b[39m]\u001b[38;5;241m.\u001b[39mget(\u001b[38;5;124m\"\u001b[39m\u001b[38;5;124mtext\u001b[39m\u001b[38;5;124m\"\u001b[39m)\n\u001b[0;32m    228\u001b[0m     \u001b[38;5;28;01mraise\u001b[39;00m exception_class(message, screen, stacktrace, alert_text)  \u001b[38;5;66;03m# type: ignore[call-arg]  # mypy is not smart enough here\u001b[39;00m\n\u001b[1;32m--> 229\u001b[0m \u001b[38;5;28;01mraise\u001b[39;00m exception_class(message, screen, stacktrace)\n",
      "\u001b[1;31mNoSuchWindowException\u001b[0m: Message: no such window: target window already closed\nfrom unknown error: web view not found\n  (Session info: chrome=120.0.6099.225)\nStacktrace:\n\tGetHandleVerifier [0x00007FF73DA72142+3514994]\n\t(No symbol) [0x00007FF73D690CE2]\n\t(No symbol) [0x00007FF73D5376AA]\n\t(No symbol) [0x00007FF73D510AFD]\n\t(No symbol) [0x00007FF73D5ACB1B]\n\t(No symbol) [0x00007FF73D5C218F]\n\t(No symbol) [0x00007FF73D5A5D93]\n\t(No symbol) [0x00007FF73D574BDC]\n\t(No symbol) [0x00007FF73D575C64]\n\tGetHandleVerifier [0x00007FF73DA9E16B+3695259]\n\tGetHandleVerifier [0x00007FF73DAF6737+4057191]\n\tGetHandleVerifier [0x00007FF73DAEE4E3+4023827]\n\tGetHandleVerifier [0x00007FF73D7C04F9+689705]\n\t(No symbol) [0x00007FF73D69C048]\n\t(No symbol) [0x00007FF73D698044]\n\t(No symbol) [0x00007FF73D6981C9]\n\t(No symbol) [0x00007FF73D6888C4]\n\tBaseThreadInitThunk [0x00007FFBE96F257D+29]\n\tRtlUserThreadStart [0x00007FFBEAC8AA58+40]\n"
     ]
    }
   ],
   "source": [
    "for elem in elems:\n",
    "    print(elem.)"
   ]
  },
  {
   "cell_type": "code",
   "execution_count": 11,
   "id": "2ec5c62e-5be5-4563-bf03-9267ced2be7b",
   "metadata": {
    "tags": []
   },
   "outputs": [
    {
     "name": "stdout",
     "output_type": "stream",
     "text": [
      "<selenium.webdriver.chrome.webdriver.WebDriver (session=\"8d45435ccfa366d5cb0b518f84d58b88\")>\n"
     ]
    }
   ],
   "source": []
  },
  {
   "cell_type": "code",
   "execution_count": null,
   "id": "4fdad01a-ad17-434f-aa8e-9dd4fac142e3",
   "metadata": {},
   "outputs": [],
   "source": [
    "browser.quit()"
   ]
  },
  {
   "cell_type": "code",
   "execution_count": null,
   "id": "9e7a7ffa-b5d1-4eaf-83c8-f86580671c80",
   "metadata": {},
   "outputs": [],
   "source": []
  },
  {
   "cell_type": "code",
   "execution_count": 18,
   "id": "792b92a2-1293-4669-b76c-453e12010e3d",
   "metadata": {},
   "outputs": [
    {
     "ename": "JSONDecodeError",
     "evalue": "Expecting value: line 1 column 1 (char 0)",
     "output_type": "error",
     "traceback": [
      "\u001b[1;31m---------------------------------------------------------------------------\u001b[0m",
      "\u001b[1;31mJSONDecodeError\u001b[0m                           Traceback (most recent call last)",
      "Cell \u001b[1;32mIn[18], line 16\u001b[0m\n\u001b[0;32m     14\u001b[0m i2 \u001b[38;5;241m=\u001b[39m txt\u001b[38;5;241m.\u001b[39mfind(find2, i1\u001b[38;5;241m+\u001b[39m\u001b[38;5;241m1\u001b[39m )\n\u001b[0;32m     15\u001b[0m js \u001b[38;5;241m=\u001b[39m txt[i1\u001b[38;5;241m+\u001b[39m\u001b[38;5;28mlen\u001b[39m(find1):i2]\n\u001b[1;32m---> 16\u001b[0m data \u001b[38;5;241m=\u001b[39m json\u001b[38;5;241m.\u001b[39mloads(js)\n\u001b[0;32m     17\u001b[0m pprint(data)\n",
      "File \u001b[1;32mG:\\anaconda3\\envs\\DataSciEnv\\Lib\\json\\__init__.py:346\u001b[0m, in \u001b[0;36mloads\u001b[1;34m(s, cls, object_hook, parse_float, parse_int, parse_constant, object_pairs_hook, **kw)\u001b[0m\n\u001b[0;32m    341\u001b[0m     s \u001b[38;5;241m=\u001b[39m s\u001b[38;5;241m.\u001b[39mdecode(detect_encoding(s), \u001b[38;5;124m'\u001b[39m\u001b[38;5;124msurrogatepass\u001b[39m\u001b[38;5;124m'\u001b[39m)\n\u001b[0;32m    343\u001b[0m \u001b[38;5;28;01mif\u001b[39;00m (\u001b[38;5;28mcls\u001b[39m \u001b[38;5;129;01mis\u001b[39;00m \u001b[38;5;28;01mNone\u001b[39;00m \u001b[38;5;129;01mand\u001b[39;00m object_hook \u001b[38;5;129;01mis\u001b[39;00m \u001b[38;5;28;01mNone\u001b[39;00m \u001b[38;5;129;01mand\u001b[39;00m\n\u001b[0;32m    344\u001b[0m         parse_int \u001b[38;5;129;01mis\u001b[39;00m \u001b[38;5;28;01mNone\u001b[39;00m \u001b[38;5;129;01mand\u001b[39;00m parse_float \u001b[38;5;129;01mis\u001b[39;00m \u001b[38;5;28;01mNone\u001b[39;00m \u001b[38;5;129;01mand\u001b[39;00m\n\u001b[0;32m    345\u001b[0m         parse_constant \u001b[38;5;129;01mis\u001b[39;00m \u001b[38;5;28;01mNone\u001b[39;00m \u001b[38;5;129;01mand\u001b[39;00m object_pairs_hook \u001b[38;5;129;01mis\u001b[39;00m \u001b[38;5;28;01mNone\u001b[39;00m \u001b[38;5;129;01mand\u001b[39;00m \u001b[38;5;129;01mnot\u001b[39;00m kw):\n\u001b[1;32m--> 346\u001b[0m     \u001b[38;5;28;01mreturn\u001b[39;00m _default_decoder\u001b[38;5;241m.\u001b[39mdecode(s)\n\u001b[0;32m    347\u001b[0m \u001b[38;5;28;01mif\u001b[39;00m \u001b[38;5;28mcls\u001b[39m \u001b[38;5;129;01mis\u001b[39;00m \u001b[38;5;28;01mNone\u001b[39;00m:\n\u001b[0;32m    348\u001b[0m     \u001b[38;5;28mcls\u001b[39m \u001b[38;5;241m=\u001b[39m JSONDecoder\n",
      "File \u001b[1;32mG:\\anaconda3\\envs\\DataSciEnv\\Lib\\json\\decoder.py:337\u001b[0m, in \u001b[0;36mJSONDecoder.decode\u001b[1;34m(self, s, _w)\u001b[0m\n\u001b[0;32m    332\u001b[0m \u001b[38;5;28;01mdef\u001b[39;00m \u001b[38;5;21mdecode\u001b[39m(\u001b[38;5;28mself\u001b[39m, s, _w\u001b[38;5;241m=\u001b[39mWHITESPACE\u001b[38;5;241m.\u001b[39mmatch):\n\u001b[0;32m    333\u001b[0m \u001b[38;5;250m    \u001b[39m\u001b[38;5;124;03m\"\"\"Return the Python representation of ``s`` (a ``str`` instance\u001b[39;00m\n\u001b[0;32m    334\u001b[0m \u001b[38;5;124;03m    containing a JSON document).\u001b[39;00m\n\u001b[0;32m    335\u001b[0m \n\u001b[0;32m    336\u001b[0m \u001b[38;5;124;03m    \"\"\"\u001b[39;00m\n\u001b[1;32m--> 337\u001b[0m     obj, end \u001b[38;5;241m=\u001b[39m \u001b[38;5;28mself\u001b[39m\u001b[38;5;241m.\u001b[39mraw_decode(s, idx\u001b[38;5;241m=\u001b[39m_w(s, \u001b[38;5;241m0\u001b[39m)\u001b[38;5;241m.\u001b[39mend())\n\u001b[0;32m    338\u001b[0m     end \u001b[38;5;241m=\u001b[39m _w(s, end)\u001b[38;5;241m.\u001b[39mend()\n\u001b[0;32m    339\u001b[0m     \u001b[38;5;28;01mif\u001b[39;00m end \u001b[38;5;241m!=\u001b[39m \u001b[38;5;28mlen\u001b[39m(s):\n",
      "File \u001b[1;32mG:\\anaconda3\\envs\\DataSciEnv\\Lib\\json\\decoder.py:355\u001b[0m, in \u001b[0;36mJSONDecoder.raw_decode\u001b[1;34m(self, s, idx)\u001b[0m\n\u001b[0;32m    353\u001b[0m     obj, end \u001b[38;5;241m=\u001b[39m \u001b[38;5;28mself\u001b[39m\u001b[38;5;241m.\u001b[39mscan_once(s, idx)\n\u001b[0;32m    354\u001b[0m \u001b[38;5;28;01mexcept\u001b[39;00m \u001b[38;5;167;01mStopIteration\u001b[39;00m \u001b[38;5;28;01mas\u001b[39;00m err:\n\u001b[1;32m--> 355\u001b[0m     \u001b[38;5;28;01mraise\u001b[39;00m JSONDecodeError(\u001b[38;5;124m\"\u001b[39m\u001b[38;5;124mExpecting value\u001b[39m\u001b[38;5;124m\"\u001b[39m, s, err\u001b[38;5;241m.\u001b[39mvalue) \u001b[38;5;28;01mfrom\u001b[39;00m \u001b[38;5;28;01mNone\u001b[39;00m\n\u001b[0;32m    356\u001b[0m \u001b[38;5;28;01mreturn\u001b[39;00m obj, end\n",
      "\u001b[1;31mJSONDecodeError\u001b[0m: Expecting value: line 1 column 1 (char 0)"
     ]
    }
   ],
   "source": [
    "import requests\n",
    "import json\n",
    "from pprint import pprint\n",
    "\n",
    "url = [\"https://www.google.com/maps/search/Cocotte%20Notting%20Hill\",\"https://www.google.com/maps/search/The%20Old%20Brewery\"] \n",
    "r=requests.get(\"https://www.google.com/maps/search/Cocotte%20Notting%20Hill\")\n",
    "\n",
    "txt = r.text\n",
    "\n",
    "find1 = \"window.APP_INITIALIZATION_STATE=\"\n",
    "find2 = \";window.APP\"\n",
    "\n",
    "i1 = txt.find(find1)\n",
    "i2 = txt.find(find2, i1+1 )\n",
    "js = txt[i1+len(find1):i2]\n",
    "data = json.loads(js)\n",
    "pprint(data)"
   ]
  },
  {
   "cell_type": "code",
   "execution_count": null,
   "id": "3ee01b93-35a5-46e6-818e-2fc271a125a6",
   "metadata": {},
   "outputs": [],
   "source": []
  }
 ],
 "metadata": {
  "kernelspec": {
   "display_name": "Python 3 (ipykernel)",
   "language": "python",
   "name": "python3"
  },
  "language_info": {
   "codemirror_mode": {
    "name": "ipython",
    "version": 3
   },
   "file_extension": ".py",
   "mimetype": "text/x-python",
   "name": "python",
   "nbconvert_exporter": "python",
   "pygments_lexer": "ipython3",
   "version": "3.11.4"
  }
 },
 "nbformat": 4,
 "nbformat_minor": 5
}
