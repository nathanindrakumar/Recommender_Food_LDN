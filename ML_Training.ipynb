{
 "cells": [
  {
   "cell_type": "markdown",
   "metadata": {},
   "source": [
    "### Evaluating the usage of different ML models for applicability"
   ]
  },
  {
   "cell_type": "markdown",
   "metadata": {},
   "source": [
    "##### The first part of this was selecting the restaurants based on the reviews, or overviews, the second part (here), will be testing some ML models on the numerical data we have, like user ratings, number of reviews, maybe location too? Could add in something that computes location from user and added a penalty to restaurants further than 45 mins away or something"
   ]
  },
  {
   "cell_type": "code",
   "execution_count": 1,
   "metadata": {},
   "outputs": [],
   "source": [
    "# importing libraries\n",
    "import pandas as pd\n",
    "import numpy as np\n",
    "import json\n",
    "from sklearn.feature_extraction.text import TfidfVectorizer\n",
    "import re\n",
    "import dateutil.parser as parser\n",
    "from datetime import datetime, date, timedelta\n",
    "import torch\n",
    "import skorch\n",
    "import scipy\n",
    "import torch.nn as nn\n",
    "import torch\n",
    "import torch.nn.functional as F\n",
    "import sys\n",
    "from skorch.helper import DataFrameTransformer\n",
    "import time\n",
    "import matplotlib.pyplot as plt\n",
    "import seaborn as sns\n",
    "from sklearn.model_selection import GridSearchCV, cross_val_score\n",
    "from sklearn.svm import SVC\n",
    "from sklearn.linear_model import LinearRegression, LogisticRegression\n",
    "from sklearn.metrics import classification_report, confusion_matrix, accuracy_score, mean_squared_error, r2_score\n",
    "from sklearn import metrics\n",
    "from sklearn.preprocessing import FunctionTransformer\n",
    "from skorch.callbacks import EarlyStopping\n",
    "from sklearn.pipeline import Pipeline\n",
    "from skorch import NeuralNetRegressor\n",
    "import pickle\n",
    "import emoji\n",
    "import requests\n",
    "from bs4 import BeautifulSoup\n"
   ]
  },
  {
   "cell_type": "code",
   "execution_count": 2,
   "metadata": {},
   "outputs": [],
   "source": [
    "# loading merged dataset\n",
    "initial_df = pd.read_csv('Data/Merged_TA_Gmaps_Dataset_2.0.csv')\n"
   ]
  },
  {
   "cell_type": "code",
   "execution_count": 3,
   "metadata": {},
   "outputs": [],
   "source": [
    "df = initial_df.drop(['Unnamed: 0'],axis=1)\n",
    "\n",
    "df = df.dropna(axis=0, how='any', subset = ['rating_review','rating','price_level','user_ratings_total'])"
   ]
  },
  {
   "cell_type": "code",
   "execution_count": 13,
   "metadata": {},
   "outputs": [
    {
     "data": {
      "text/html": [
       "<div>\n",
       "<style scoped>\n",
       "    .dataframe tbody tr th:only-of-type {\n",
       "        vertical-align: middle;\n",
       "    }\n",
       "\n",
       "    .dataframe tbody tr th {\n",
       "        vertical-align: top;\n",
       "    }\n",
       "\n",
       "    .dataframe thead th {\n",
       "        text-align: right;\n",
       "    }\n",
       "</style>\n",
       "<table border=\"1\" class=\"dataframe\">\n",
       "  <thead>\n",
       "    <tr style=\"text-align: right;\">\n",
       "      <th></th>\n",
       "      <th>rating_review</th>\n",
       "      <th>rating</th>\n",
       "      <th>user_ratings_total</th>\n",
       "      <th>id</th>\n",
       "    </tr>\n",
       "    <tr>\n",
       "      <th>restaurant_name</th>\n",
       "      <th></th>\n",
       "      <th></th>\n",
       "      <th></th>\n",
       "      <th></th>\n",
       "    </tr>\n",
       "  </thead>\n",
       "  <tbody>\n",
       "    <tr>\n",
       "      <th>108_Brasserie</th>\n",
       "      <td>4.395349</td>\n",
       "      <td>4.2</td>\n",
       "      <td>767.0</td>\n",
       "      <td>1118</td>\n",
       "    </tr>\n",
       "    <tr>\n",
       "      <th>12th_Knot</th>\n",
       "      <td>4.031977</td>\n",
       "      <td>4.4</td>\n",
       "      <td>1218.0</td>\n",
       "      <td>688</td>\n",
       "    </tr>\n",
       "    <tr>\n",
       "      <th>222_Vegan_Cuisine</th>\n",
       "      <td>4.276060</td>\n",
       "      <td>4.5</td>\n",
       "      <td>1465.0</td>\n",
       "      <td>873</td>\n",
       "    </tr>\n",
       "    <tr>\n",
       "      <th>2_Veneti</th>\n",
       "      <td>4.452471</td>\n",
       "      <td>4.4</td>\n",
       "      <td>482.0</td>\n",
       "      <td>263</td>\n",
       "    </tr>\n",
       "    <tr>\n",
       "      <th>34_Mayfair</th>\n",
       "      <td>4.190409</td>\n",
       "      <td>4.2</td>\n",
       "      <td>1333.0</td>\n",
       "      <td>709</td>\n",
       "    </tr>\n",
       "    <tr>\n",
       "      <th>...</th>\n",
       "      <td>...</td>\n",
       "      <td>...</td>\n",
       "      <td>...</td>\n",
       "      <td>...</td>\n",
       "    </tr>\n",
       "    <tr>\n",
       "      <th>Zizzi_Paddington_Street</th>\n",
       "      <td>4.042857</td>\n",
       "      <td>3.9</td>\n",
       "      <td>820.0</td>\n",
       "      <td>280</td>\n",
       "    </tr>\n",
       "    <tr>\n",
       "      <th>Zizzi_The_Strand</th>\n",
       "      <td>3.974684</td>\n",
       "      <td>4.2</td>\n",
       "      <td>1871.0</td>\n",
       "      <td>632</td>\n",
       "    </tr>\n",
       "    <tr>\n",
       "      <th>Zoilo</th>\n",
       "      <td>4.490909</td>\n",
       "      <td>4.6</td>\n",
       "      <td>554.0</td>\n",
       "      <td>440</td>\n",
       "    </tr>\n",
       "    <tr>\n",
       "      <th>Zonzo_Restaurant</th>\n",
       "      <td>4.472039</td>\n",
       "      <td>4.2</td>\n",
       "      <td>923.0</td>\n",
       "      <td>608</td>\n",
       "    </tr>\n",
       "    <tr>\n",
       "      <th>Zuma_London</th>\n",
       "      <td>4.457797</td>\n",
       "      <td>4.5</td>\n",
       "      <td>2139.0</td>\n",
       "      <td>2097</td>\n",
       "    </tr>\n",
       "  </tbody>\n",
       "</table>\n",
       "<p>1504 rows × 4 columns</p>\n",
       "</div>"
      ],
      "text/plain": [
       "                         rating_review  rating  user_ratings_total    id\n",
       "restaurant_name                                                         \n",
       "108_Brasserie                 4.395349     4.2               767.0  1118\n",
       "12th_Knot                     4.031977     4.4              1218.0   688\n",
       "222_Vegan_Cuisine             4.276060     4.5              1465.0   873\n",
       "2_Veneti                      4.452471     4.4               482.0   263\n",
       "34_Mayfair                    4.190409     4.2              1333.0   709\n",
       "...                                ...     ...                 ...   ...\n",
       "Zizzi_Paddington_Street       4.042857     3.9               820.0   280\n",
       "Zizzi_The_Strand              3.974684     4.2              1871.0   632\n",
       "Zoilo                         4.490909     4.6               554.0   440\n",
       "Zonzo_Restaurant              4.472039     4.2               923.0   608\n",
       "Zuma_London                   4.457797     4.5              2139.0  2097\n",
       "\n",
       "[1504 rows x 4 columns]"
      ]
     },
     "execution_count": 13,
     "metadata": {},
     "output_type": "execute_result"
    }
   ],
   "source": [
    "df_summary = df.groupby('restaurant_name').agg({'rating_review': 'mean', 'rating': 'mean', 'user_ratings_total': 'mean', 'id' : 'count'})\n",
    "df_summary"
   ]
  },
  {
   "cell_type": "code",
   "execution_count": 29,
   "metadata": {},
   "outputs": [],
   "source": [
    "# Obtaining all restaurants which have less than 50 reviews in total. This is an abitrary threshold applied to ensure that only restaurants\n",
    "# with a statistically relevant number of reviews are considered. Typically if a place has less than 50 reviews, people are hesitant to try.\n",
    "# There is a limitation to this item's effectiveness as this will become less relevant due to the age of the original dataset, ie. a restaurant\n",
    "# may have had less than 50 reviews when this Google Maps data was pulled, but has since surpassed this.\n",
    "low_vol_reviews = df_summary.loc[df_summary['user_ratings_total'] < 50,]\n",
    "\n",
    "df_filtered = df.loc[~df['restaurant_name'].isin(low_vol_reviews.index)]"
   ]
  },
  {
   "cell_type": "code",
   "execution_count": 25,
   "metadata": {},
   "outputs": [
    {
     "data": {
      "text/plain": [
       "Index(['Artisan_Grill', 'Butler_s_at_the_Chesterfield', 'The_Blue_Door_Bistro',\n",
       "       'Yo_Sushi_Harvey_Nichols'],\n",
       "      dtype='object', name='restaurant_name')"
      ]
     },
     "execution_count": 25,
     "metadata": {},
     "output_type": "execute_result"
    }
   ],
   "source": []
  },
  {
   "cell_type": "code",
   "execution_count": null,
   "metadata": {},
   "outputs": [],
   "source": [
    "reg = LinearRegression().fit(df['rating_review'], )"
   ]
  }
 ],
 "metadata": {
  "kernelspec": {
   "display_name": "Python 3",
   "language": "python",
   "name": "python3"
  },
  "language_info": {
   "codemirror_mode": {
    "name": "ipython",
    "version": 3
   },
   "file_extension": ".py",
   "mimetype": "text/x-python",
   "name": "python",
   "nbconvert_exporter": "python",
   "pygments_lexer": "ipython3",
   "version": "3.11.4"
  }
 },
 "nbformat": 4,
 "nbformat_minor": 2
}
